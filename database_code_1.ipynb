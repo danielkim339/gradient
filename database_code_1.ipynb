{
 "cells": [
  {
   "cell_type": "code",
   "execution_count": 10,
   "metadata": {},
   "outputs": [],
   "source": [
    "import numpy as np\n",
    "import pandas as pd\n",
    "import flask"
   ]
  },
  {
   "cell_type": "code",
   "execution_count": 11,
   "metadata": {},
   "outputs": [],
   "source": [
    "class Person:\n",
    "    \n",
    "    def __init__(self, first, last, basic=None, health=None, DNA=None):\n",
    "        self.first_name = first\n",
    "        self.last_name = last\n",
    "        self.basic_info = basic\n",
    "        self.health_data = health\n",
    "        self.DNA_data = DNA\n",
    "\n",
    "    def add_basic_info(self, age, gender):\n",
    "        self.basic_info = {'age': age, 'gener': gender}\n",
    "\n",
    "    def add_health_data(self, health):\n",
    "        self.health_data = health\n",
    "        \n",
    "    def add_DNA_data(self, DNA_seq, DNA_params=None):\n",
    "        self.DNA_data = {'sequence' : DNA_seq,\n",
    "                         'parameters': DNA_params}\n",
    "        \n",
    "    def make_dataset(self):\n",
    "        pass\n",
    "    \n",
    "    \n",
    "daniel_kim = Person(first='Daniel', last='Kim')\n"
   ]
  },
  {
   "cell_type": "code",
   "execution_count": null,
   "metadata": {},
   "outputs": [],
   "source": []
  }
 ],
 "metadata": {
  "kernelspec": {
   "display_name": "Python 3",
   "language": "python",
   "name": "python3"
  },
  "language_info": {
   "codemirror_mode": {
    "name": "ipython",
    "version": 3
   },
   "file_extension": ".py",
   "mimetype": "text/x-python",
   "name": "python",
   "nbconvert_exporter": "python",
   "pygments_lexer": "ipython3",
   "version": "3.7.7"
  }
 },
 "nbformat": 4,
 "nbformat_minor": 4
}
